{
  "nbformat": 4,
  "nbformat_minor": 0,
  "metadata": {
    "colab": {
      "provenance": [],
      "authorship_tag": "ABX9TyNCXTdn0OffA98Ve8Pl6Y79",
      "include_colab_link": true
    },
    "kernelspec": {
      "name": "python3",
      "display_name": "Python 3"
    },
    "language_info": {
      "name": "python"
    }
  },
  "cells": [
    {
      "cell_type": "markdown",
      "metadata": {
        "id": "view-in-github",
        "colab_type": "text"
      },
      "source": [
        "<a href=\"https://colab.research.google.com/github/Aryann15/devSwipe/blob/master/Git_review.ipynb\" target=\"_parent\"><img src=\"https://colab.research.google.com/assets/colab-badge.svg\" alt=\"Open In Colab\"/></a>"
      ]
    },
    {
      "cell_type": "code",
      "execution_count": 1,
      "metadata": {
        "id": "46dZ1fm9SCq8"
      },
      "outputs": [],
      "source": [
        "details = \"\"\"\n",
        "User Profile for Saransh-cpp:\n",
        "Name: Saransh Chopra\n",
        "Bio: Undergrad who likes open-source scientific software\n",
        "Followers: 172\n",
        "Following: 107\n",
        "\n",
        "Repository Name: Python\n",
        "Description: All Algorithms implemented in Python\n",
        "Fork: True\n",
        "\n",
        "Repository Name: astropy\n",
        "Description: Astronomy and astrophysics core library\n",
        "Fork: True\n",
        "\n",
        "Repository Name: agda-python\n",
        "Description: A project that packages Agda as a Python package.\n",
        "Fork: True\n",
        "\n",
        "Repository Name: rmstar\n",
        "Description: Archived. For latest developments, see removestar - https://github.com/asmeurer/removestar.\n",
        "Fork: False\n",
        "\n",
        "Repository Name: Papers\n",
        "Description: Papers, theses, and presentations that I like (might have read, might be on the reading list)\n",
        "Fork: False\n",
        "\n",
        "Repository Name: scicookie\n",
        "Description: Cookiecutter template for a Python package.\n",
        "Fork: True\n",
        "\n",
        "Repository Name: Idris2\n",
        "Description: A purely functional programming language with first class types\n",
        "Fork: True\n",
        "\n",
        "Repository Name: IdrisButNotAgda\n",
        "Description: None\n",
        "Fork: False\n",
        "\n",
        "Repository Name: dot-analysis\n",
        "Description: Analysing dependency graphs produced by Agda\n",
        "Fork: True\n",
        "\n",
        "Repository Name: agda\n",
        "Description: Agda is a dependently typed programming language / interactive theorem prover.\n",
        "Fork: True\n",
        "\n",
        "Repository Name: setuptools_scm\n",
        "Description: the blessed package to manage your versions by scm tags\n",
        "Fork: True\n",
        "\n",
        "Repository Name: hsf-training-cicd\n",
        "Description: Continuuous integration and deployment. View webpage here: https://hsf-training.github.io/hsf-training-cicd/\n",
        "Fork: True\n",
        "\n",
        "Repository Name: hsf-training-cicd-github\n",
        "Description: An introduction to continuous integration (CI) and continuous deployment (CD) using GitHub Actions\n",
        "Fork: True\n",
        "\n",
        "Repository Name: benchexec\n",
        "Description: BenchExec: A Framework for Reliable Benchmarking and Resource Measurement\n",
        "Fork: True\n",
        "\n",
        "Repository Name: agda-stdlib\n",
        "Description: The Agda standard library\n",
        "Fork: True\n",
        "\n",
        "Repository Name: gsoc\n",
        "Description: NumFOCUS Google Summer of Code Materials\n",
        "Fork: True\n",
        "\n",
        "Repository Name: javamop\n",
        "Description: Runtime verification system for Java, using AspectJ for instrumentation.\n",
        "Fork: True\n",
        "\n",
        "Repository Name: pip\n",
        "Description: The Python package installer\n",
        "Fork: True\n",
        "\n",
        "Repository Name: casadi\n",
        "Description: CasADi is a symbolic framework for numeric optimization implementing automatic differentiation in forward and reverse modes on sparse matrix-valued computational graphs. It supports self-contained C-code generation and interfaces state-of-the-art codes such as SUNDIALS, IPOPT etc. It can be used from C++, Python or Matlab/Octave.\n",
        "Fork: True\n",
        "\n",
        "Repository Name: numcodecs\n",
        "Description: A Python package providing buffer compression and transformation codecs for use in data storage and communication applications.\n",
        "Fork: True\n",
        "\n",
        "Repository Name: codespell\n",
        "Description: check code for common misspellings\n",
        "Fork: True\n",
        "\n",
        "Repository Name: www.julialang.org\n",
        "Description: Julia Project website\n",
        "Fork: True\n",
        "\n",
        "Repository Name: CompGraphicsInJulia\n",
        "Description: Computer Graphics assignments in Julia (because why not)\n",
        "Fork: False\n",
        "\n",
        "Repository Name: fluxml-franklin-port\n",
        "Description: None\n",
        "Fork: False\n",
        "\n",
        "Repository Name: Franklin.jl\n",
        "Description: (yet another) static site generator. Simple, customisable, fast, maths with KaTeX, code evaluation, optional pre-rendering, in Julia.\n",
        "Fork: True\n",
        "\n",
        "User Organizations:\n",
        "Organization Name: astropy\n",
        "Organization Name: numfocus\n",
        "Organization Name: fossasia\n",
        "Organization Name: conda-forge\n",
        "Organization Name: clusterinnovationcentre\n",
        "Organization Name: FluxML\n",
        "Organization Name: pybamm-team\n",
        "Organization Name: AI-View\n",
        "Organization Name: osl-incubator\n",
        "Organization Name: Google-Summer-of-Code-Archive\n",
        "README.md Content: You are probably looking for [my website](https://Saransh-cpp.github.io), specifically, the [open-source page](https://saransh-cpp.github.io/opensource/). I am broadly interested in **Research Software Engineering**, **Scientific Computing**, **Scientific Machine Learning**, **Computer Vision**, **Theory of Computation**, **Formal Verification** (**Type Theory**, **Proof Theory**), **Functional Programming** and **DevOps**. I am extremely passionate about **Open-Source** and **Open-Science**. I am also developing some taste for **pure Software Engineering research** (runtime verification, new testing methods, etc.). ## Open-Source Software Better [here](https://saransh-cpp.github.io/opensource/). ### Main software The software I am (or I was once) involved with as a maintainer, core developer, core contributor, or was funded to work on. [pybamm-team/PyBaMM](https://github.com/pybamm-team/PyBaMM) | [scikit-hep/vector](https://github.com/scikit-hep/vector) | [conda-forge/vector-feedstock](https://github.com/conda-forge/vector-feedstock) | [FluxML/Flux.jl](https://github.com/FluxML/Flux.jl) | [agda/agda-stdlib](https://github.com/agda/agda-stdlib) | [pybamm-team/liionpack](https://github.com/pybamm-team/liionpack) | [pybamm-team/BattBot](https://github.com/pybamm-team/BattBot) | [smaranjitghose/DocLense](https://github.com/smaranjitghose/DocLense) | [asmeurer/removestar](https://github.com/asmeurer/removestar) | [conda-forge/removestar-feedstock](https://github.com/conda-forge/removestar-feedstock) ### Significant contributions Significant voluntary contributions or spin-off projects (was not directly funded to work on them but my work expanded and encompassed them). [FluxML ecosystem](https://github.com/FluxML/) | [Scikit-HEP ecosystem](https://github.com/scikit-hep/) | [luluxvi/DeepXDE](https://github.com/lululxvi/deepxde) | [zarr-developers/zarr-python](https://github.com/zarr-developers/zarr-python) | [scientific-python/cookie](https://github.com/scientific-python/cookie) ### Small but nice contributions Small contributions (not a spam spelling fix in README) that I did spend some time on. [sosy-lab/benchexec](https://github.com/sosy-lab/benchexec) | [colour-science/colour](https://github.com/colour-science/colour) | [bmcage/odes](https://github.com/bmcage/odes) | [idris-lang/Idris2](https://github.com/idris-lang/Idris2) | [numpy/numpy](https://github.com/numpy/numpy) | [astropy/astropy](https://github.com/astropy/astropy) <!-- ### Projects Some personal projects that I couldn't pin. [OCRed](https://github.com/Saransh-cpp/OCRed) | [ChaoticEncryption.jl](https://github.com/Saransh-cpp/ChaoticEncryption.jl) | [releaseup](https://github.com/Saransh-cpp/releaseup) | [rmstar](https://github.com/Saransh-cpp/rmstar) | [MemeTastic](https://github.com/Saransh-cpp/MemeTastic) | [PopItUp](https://github.com/Saransh-cpp/PopItUp) | [BookRentApp-Chapter3](https://github.com/Saransh-cpp/BookRentApp-Chapter3) | [SceneNet](https://github.com/Saransh-cpp/SceneNet) | [ForMente](https://github.com/Saransh-cpp/ForMente) | [riemapp](https://github.com/Saransh-cpp/riemapp) --> --- <!-- <div align=\"center\"> [![Website](https://img.shields.io/badge/saransh--cpp.github.io-blue?logo=github&logoColor=white&style=flat-square&color=purple)](https://Saransh-cpp.github.io) </div> -->   <!-- [![Blogs](https://img.shields.io/badge/blogs-blue?logo=github&logoColor=white&style=flat-square&color=black)](https://Saransh-cpp.github.io) [![Linkedin: Saransh Chopra](https://img.shields.io/badge/-Saransh%20Chopra-blue?style=flat-square&logo=Linkedin&logoColor=white&link=https://www.linkedin.com/in/saransh-cpp/)](https://www.linkedin.com/in/saransh-cpp/) [![Twitter: Saransh Chopra](https://img.shields.io/twitter/follow/saranshchopra7?style=social)](https://twitter.com/saranshchopra7) --> <!-- [<img src=\"https://komarev.com/ghpvc/?username=Saransh-cpp\" alt=\"Saransh-cpp\" />](https://github.com/Saransh-cpp) --> <!-- [![Medium Badge](https://img.shields.io/badge/-@White%20Violin-black?style=flat-square&labelColor=000000&logo=Medium&link=https://medium.com/@WhiteViolin)](https://medium.com/@WhiteViolin) --> <!-- </div> -->   <!-- [![GitHub Saransh-cpp](https://img.shields.io/github/followers/Saransh-cpp?label=follow&style=social)](https://github.com/Saransh-cpp) --> <!-- - 🛰️ I was a Technical Writer at [FluxML](https://fluxml.ai/) under [Julia Season of Contributions](https://julialang.org/jsoc/)! - 🛰️ I was an [IRIS-HEP (Institute for Research and Innovation in Software for High Energy Physics)](https://iris-hep.org/) [fellow](https://iris-hep.org/fellows.html), and my work revolved around [Scikit-HEP/vector](https://github.com/scikit-hep/vector)! - :battery: I was a [Google Summer of Code 2021](https://summerofcode.withgoogle.com/projects/#5045812318437376) student at [PyBaMM](https://github.com/pybamm-team), [NumFOCUS](https://github.com/numfocus). - :octocat: I primarily contribute to the [PyBaMM ecosystem](https://github.com/pybamm-team/), [Scikit-HEP/vector](https://github.com/scikit-hep/vector) (and [some surronding packages](https://github.com/scikit-hep)), [FluxML](https://github.com/FluxML/Flux.jl) (and [some surronding packages](https://github.com/FluxML)), and random open-source research software. --> <!-- - :octocat: I try my best to contribute to the [PyBaMM ecosystem](https://github.com/pybamm-team/) regularly. --> <!-- - 🔭 I’m currently working on [ChaoticEncryption.jl](https://github.com/Saransh-cpp/ChaoticEncryption.jl) and [OCRed](https://github.com/Saransh-cpp/OCRed). --> <!-- - 🌱 I’m currently looking for research internships/fellowships. --> <!-- - 📫 Find my tech articles and GSoC 2021 blogs [here](https://whiteviolin.medium.com/). --> <!-- - #### <p align=\"left\"> [<img src=\"https://komarev.com/ghpvc/?username=Saransh-cpp\" alt=\"Saransh-cpp\" />](https://github.com/Saransh-cpp)</p> --> <p align=\"center\"><img src=\"https://github-readme-stats.vercel.app/api?username=Saransh-cpp&count_private=true&show_icons=true&include_all_commits=true&theme=gruvbox&bg_color=333333&show=reviews,discussions_answered\"/></p> <!-- ## Recent activity --> <!-- 1. 🗣 Commented on [#207](https://github.com/agda/agda-stdlib/issues/207) in [agda/agda-stdlib](https://github.com/agda/agda-stdlib) 2. 🗣 Commented on [#3035](https://github.com/pybamm-team/PyBaMM/issues/3035) in [pybamm-team/PyBaMM](https://github.com/pybamm-team/PyBaMM) 3. 🗣 Commented on [#3035](https://github.com/pybamm-team/PyBaMM/issues/3035) in [pybamm-team/PyBaMM](https://github.com/pybamm-team/PyBaMM) 4. 🗣 Commented on [#207](https://github.com/agda/agda-stdlib/issues/207) in [agda/agda-stdlib](https://github.com/agda/agda-stdlib) 5. ❗ Opened issue [#1980](https://github.com/agda/agda-stdlib/issues/1980) in [agda/agda-stdlib](https://github.com/agda/agda-stdlib) -->  <!-- ## Some personal projects that I couldn't pin <table>     <tr>     <td>     <a href=\"https://github.com/Saransh-cpp/PDEsWithPINNs\"><img align=\"center\" src=\"https://github-readme-stats.vercel.app/api/pin/?username=Saransh-cpp&repo=PDEsWithPINNs&theme=gruvbox&bg_color=333333\" /></a>     </td>     <td>     <a href=\"https://github.com/Saransh-cpp/ChaoticEncryption.jl\"><img align=\"center\" src=\"https://github-readme-stats.vercel.app/api/pin/?username=Saransh-cpp&repo=ChaoticEncryption.jl&theme=gruvbox&bg_color=333333\" /></a>     </td>     </tr>     <tr>     <td>     <a href=\"https://github.com/Saransh-cpp/OCRed\"><img align=\"center\" src=\"https://github-readme-stats.vercel.app/api/pin/?username=Saransh-cpp&repo=OCRed&theme=gruvbox&bg_color=333333\" /></a>     </td>     <td>    <a href=\"https://github.com/Saransh-cpp/ForMente\"><img align=\"center\" src=\"https://github-readme-stats.vercel.app/api/pin/?username=Saransh-cpp&repo=ForMente&theme=gruvbox&bg_color=333333\" /></a>     </td>     </tr>     <tr>     <td>     <a href=\"https://github.com/Saransh-cpp/PopItUp\"><img align=\"center\" src=\"https://github-readme-stats.vercel.app/api/pin/?username=Saransh-cpp&repo=PopItUp&theme=gruvbox&bg_color=333333\" /></a>     </td>     <td>    <a href=\"https://github.com/Saransh-cpp/releaseup\"><img align=\"center\" src=\"https://github-readme-stats.vercel.app/api/pin/?username=Saransh-cpp&repo=releaseup&theme=gruvbox&bg_color=333333\" /></a>     </td>     </tr>     <tr>     <td>     <a href=\"https://github.com/Saransh-cpp/MemeTastic\"><img align=\"center\" src=\"https://github-readme-stats.vercel.app/api/pin/?username=Saransh-cpp&repo=MemeTastic&theme=gruvbox&bg_color=333333\" /></a>     </td>  <td>     <a href=\"https://github.com/Saransh-cpp/SceneNet\"><img align=\"center\" src=\"https://github-readme-stats.vercel.app/api/pin/?username=Saransh-cpp&repo=SceneNet&theme=gruvbox&bg_color=333333\" /></a>     </td>     </tr> </table>\n",
        "\"\"\""
      ]
    },
    {
      "cell_type": "code",
      "source": [
        "pip install langchain openai"
      ],
      "metadata": {
        "colab": {
          "base_uri": "https://localhost:8080/"
        },
        "id": "pXM3L7LwSb8f",
        "outputId": "c94025bf-475e-4d0d-d9f5-8fe0011989ca"
      },
      "execution_count": 2,
      "outputs": [
        {
          "output_type": "stream",
          "name": "stdout",
          "text": [
            "Collecting langchain\n",
            "  Downloading langchain-0.0.330-py3-none-any.whl (2.0 MB)\n",
            "\u001b[2K     \u001b[90m━━━━━━━━━━━━━━━━━━━━━━━━━━━━━━━━━━━━━━━━\u001b[0m \u001b[32m2.0/2.0 MB\u001b[0m \u001b[31m12.7 MB/s\u001b[0m eta \u001b[36m0:00:00\u001b[0m\n",
            "\u001b[?25hCollecting openai\n",
            "  Downloading openai-0.28.1-py3-none-any.whl (76 kB)\n",
            "\u001b[2K     \u001b[90m━━━━━━━━━━━━━━━━━━━━━━━━━━━━━━━━━━━━━━━━\u001b[0m \u001b[32m77.0/77.0 kB\u001b[0m \u001b[31m13.4 MB/s\u001b[0m eta \u001b[36m0:00:00\u001b[0m\n",
            "\u001b[?25hRequirement already satisfied: PyYAML>=5.3 in /usr/local/lib/python3.10/dist-packages (from langchain) (6.0.1)\n",
            "Requirement already satisfied: SQLAlchemy<3,>=1.4 in /usr/local/lib/python3.10/dist-packages (from langchain) (2.0.22)\n",
            "Requirement already satisfied: aiohttp<4.0.0,>=3.8.3 in /usr/local/lib/python3.10/dist-packages (from langchain) (3.8.6)\n",
            "Requirement already satisfied: anyio<4.0 in /usr/local/lib/python3.10/dist-packages (from langchain) (3.7.1)\n",
            "Requirement already satisfied: async-timeout<5.0.0,>=4.0.0 in /usr/local/lib/python3.10/dist-packages (from langchain) (4.0.3)\n",
            "Collecting dataclasses-json<0.7,>=0.5.7 (from langchain)\n",
            "  Downloading dataclasses_json-0.6.1-py3-none-any.whl (27 kB)\n",
            "Collecting jsonpatch<2.0,>=1.33 (from langchain)\n",
            "  Downloading jsonpatch-1.33-py2.py3-none-any.whl (12 kB)\n",
            "Collecting langsmith<0.1.0,>=0.0.52 (from langchain)\n",
            "  Downloading langsmith-0.0.57-py3-none-any.whl (44 kB)\n",
            "\u001b[2K     \u001b[90m━━━━━━━━━━━━━━━━━━━━━━━━━━━━━━━━━━━━━━━━\u001b[0m \u001b[32m44.5/44.5 kB\u001b[0m \u001b[31m6.0 MB/s\u001b[0m eta \u001b[36m0:00:00\u001b[0m\n",
            "\u001b[?25hRequirement already satisfied: numpy<2,>=1 in /usr/local/lib/python3.10/dist-packages (from langchain) (1.23.5)\n",
            "Requirement already satisfied: pydantic<3,>=1 in /usr/local/lib/python3.10/dist-packages (from langchain) (1.10.13)\n",
            "Requirement already satisfied: requests<3,>=2 in /usr/local/lib/python3.10/dist-packages (from langchain) (2.31.0)\n",
            "Requirement already satisfied: tenacity<9.0.0,>=8.1.0 in /usr/local/lib/python3.10/dist-packages (from langchain) (8.2.3)\n",
            "Requirement already satisfied: tqdm in /usr/local/lib/python3.10/dist-packages (from openai) (4.66.1)\n",
            "Requirement already satisfied: attrs>=17.3.0 in /usr/local/lib/python3.10/dist-packages (from aiohttp<4.0.0,>=3.8.3->langchain) (23.1.0)\n",
            "Requirement already satisfied: charset-normalizer<4.0,>=2.0 in /usr/local/lib/python3.10/dist-packages (from aiohttp<4.0.0,>=3.8.3->langchain) (3.3.1)\n",
            "Requirement already satisfied: multidict<7.0,>=4.5 in /usr/local/lib/python3.10/dist-packages (from aiohttp<4.0.0,>=3.8.3->langchain) (6.0.4)\n",
            "Requirement already satisfied: yarl<2.0,>=1.0 in /usr/local/lib/python3.10/dist-packages (from aiohttp<4.0.0,>=3.8.3->langchain) (1.9.2)\n",
            "Requirement already satisfied: frozenlist>=1.1.1 in /usr/local/lib/python3.10/dist-packages (from aiohttp<4.0.0,>=3.8.3->langchain) (1.4.0)\n",
            "Requirement already satisfied: aiosignal>=1.1.2 in /usr/local/lib/python3.10/dist-packages (from aiohttp<4.0.0,>=3.8.3->langchain) (1.3.1)\n",
            "Requirement already satisfied: idna>=2.8 in /usr/local/lib/python3.10/dist-packages (from anyio<4.0->langchain) (3.4)\n",
            "Requirement already satisfied: sniffio>=1.1 in /usr/local/lib/python3.10/dist-packages (from anyio<4.0->langchain) (1.3.0)\n",
            "Requirement already satisfied: exceptiongroup in /usr/local/lib/python3.10/dist-packages (from anyio<4.0->langchain) (1.1.3)\n",
            "Collecting marshmallow<4.0.0,>=3.18.0 (from dataclasses-json<0.7,>=0.5.7->langchain)\n",
            "  Downloading marshmallow-3.20.1-py3-none-any.whl (49 kB)\n",
            "\u001b[2K     \u001b[90m━━━━━━━━━━━━━━━━━━━━━━━━━━━━━━━━━━━━━━━━\u001b[0m \u001b[32m49.4/49.4 kB\u001b[0m \u001b[31m6.7 MB/s\u001b[0m eta \u001b[36m0:00:00\u001b[0m\n",
            "\u001b[?25hCollecting typing-inspect<1,>=0.4.0 (from dataclasses-json<0.7,>=0.5.7->langchain)\n",
            "  Downloading typing_inspect-0.9.0-py3-none-any.whl (8.8 kB)\n",
            "Collecting jsonpointer>=1.9 (from jsonpatch<2.0,>=1.33->langchain)\n",
            "  Downloading jsonpointer-2.4-py2.py3-none-any.whl (7.8 kB)\n",
            "Requirement already satisfied: typing-extensions>=4.2.0 in /usr/local/lib/python3.10/dist-packages (from pydantic<3,>=1->langchain) (4.5.0)\n",
            "Requirement already satisfied: urllib3<3,>=1.21.1 in /usr/local/lib/python3.10/dist-packages (from requests<3,>=2->langchain) (2.0.7)\n",
            "Requirement already satisfied: certifi>=2017.4.17 in /usr/local/lib/python3.10/dist-packages (from requests<3,>=2->langchain) (2023.7.22)\n",
            "Requirement already satisfied: greenlet!=0.4.17 in /usr/local/lib/python3.10/dist-packages (from SQLAlchemy<3,>=1.4->langchain) (3.0.0)\n",
            "Requirement already satisfied: packaging>=17.0 in /usr/local/lib/python3.10/dist-packages (from marshmallow<4.0.0,>=3.18.0->dataclasses-json<0.7,>=0.5.7->langchain) (23.2)\n",
            "Collecting mypy-extensions>=0.3.0 (from typing-inspect<1,>=0.4.0->dataclasses-json<0.7,>=0.5.7->langchain)\n",
            "  Downloading mypy_extensions-1.0.0-py3-none-any.whl (4.7 kB)\n",
            "Installing collected packages: mypy-extensions, marshmallow, jsonpointer, typing-inspect, langsmith, jsonpatch, openai, dataclasses-json, langchain\n",
            "\u001b[31mERROR: pip's dependency resolver does not currently take into account all the packages that are installed. This behaviour is the source of the following dependency conflicts.\n",
            "llmx 0.0.15a0 requires cohere, which is not installed.\n",
            "llmx 0.0.15a0 requires tiktoken, which is not installed.\u001b[0m\u001b[31m\n",
            "\u001b[0mSuccessfully installed dataclasses-json-0.6.1 jsonpatch-1.33 jsonpointer-2.4 langchain-0.0.330 langsmith-0.0.57 marshmallow-3.20.1 mypy-extensions-1.0.0 openai-0.28.1 typing-inspect-0.9.0\n"
          ]
        }
      ]
    },
    {
      "cell_type": "code",
      "source": [
        "pip install tiktoken"
      ],
      "metadata": {
        "colab": {
          "base_uri": "https://localhost:8080/"
        },
        "id": "whysdiPJS7TO",
        "outputId": "432d37f0-dbfc-45c8-980d-e5703bcc1ede"
      },
      "execution_count": 3,
      "outputs": [
        {
          "output_type": "stream",
          "name": "stdout",
          "text": [
            "Collecting tiktoken\n",
            "  Downloading tiktoken-0.5.1-cp310-cp310-manylinux_2_17_x86_64.manylinux2014_x86_64.whl (2.0 MB)\n",
            "\u001b[2K     \u001b[90m━━━━━━━━━━━━━━━━━━━━━━━━━━━━━━━━━━━━━━━━\u001b[0m \u001b[32m2.0/2.0 MB\u001b[0m \u001b[31m9.0 MB/s\u001b[0m eta \u001b[36m0:00:00\u001b[0m\n",
            "\u001b[?25hRequirement already satisfied: regex>=2022.1.18 in /usr/local/lib/python3.10/dist-packages (from tiktoken) (2023.6.3)\n",
            "Requirement already satisfied: requests>=2.26.0 in /usr/local/lib/python3.10/dist-packages (from tiktoken) (2.31.0)\n",
            "Requirement already satisfied: charset-normalizer<4,>=2 in /usr/local/lib/python3.10/dist-packages (from requests>=2.26.0->tiktoken) (3.3.1)\n",
            "Requirement already satisfied: idna<4,>=2.5 in /usr/local/lib/python3.10/dist-packages (from requests>=2.26.0->tiktoken) (3.4)\n",
            "Requirement already satisfied: urllib3<3,>=1.21.1 in /usr/local/lib/python3.10/dist-packages (from requests>=2.26.0->tiktoken) (2.0.7)\n",
            "Requirement already satisfied: certifi>=2017.4.17 in /usr/local/lib/python3.10/dist-packages (from requests>=2.26.0->tiktoken) (2023.7.22)\n",
            "Installing collected packages: tiktoken\n",
            "\u001b[31mERROR: pip's dependency resolver does not currently take into account all the packages that are installed. This behaviour is the source of the following dependency conflicts.\n",
            "llmx 0.0.15a0 requires cohere, which is not installed.\u001b[0m\u001b[31m\n",
            "\u001b[0mSuccessfully installed tiktoken-0.5.1\n"
          ]
        }
      ]
    },
    {
      "cell_type": "code",
      "source": [
        "pip install openai"
      ],
      "metadata": {
        "colab": {
          "base_uri": "https://localhost:8080/"
        },
        "id": "x9LjjRlnSipv",
        "outputId": "61f97a0c-4dc0-460b-e2d8-d85aecf21e62"
      },
      "execution_count": 4,
      "outputs": [
        {
          "output_type": "stream",
          "name": "stdout",
          "text": [
            "Requirement already satisfied: openai in /usr/local/lib/python3.10/dist-packages (0.28.1)\n",
            "Requirement already satisfied: requests>=2.20 in /usr/local/lib/python3.10/dist-packages (from openai) (2.31.0)\n",
            "Requirement already satisfied: tqdm in /usr/local/lib/python3.10/dist-packages (from openai) (4.66.1)\n",
            "Requirement already satisfied: aiohttp in /usr/local/lib/python3.10/dist-packages (from openai) (3.8.6)\n",
            "Requirement already satisfied: charset-normalizer<4,>=2 in /usr/local/lib/python3.10/dist-packages (from requests>=2.20->openai) (3.3.1)\n",
            "Requirement already satisfied: idna<4,>=2.5 in /usr/local/lib/python3.10/dist-packages (from requests>=2.20->openai) (3.4)\n",
            "Requirement already satisfied: urllib3<3,>=1.21.1 in /usr/local/lib/python3.10/dist-packages (from requests>=2.20->openai) (2.0.7)\n",
            "Requirement already satisfied: certifi>=2017.4.17 in /usr/local/lib/python3.10/dist-packages (from requests>=2.20->openai) (2023.7.22)\n",
            "Requirement already satisfied: attrs>=17.3.0 in /usr/local/lib/python3.10/dist-packages (from aiohttp->openai) (23.1.0)\n",
            "Requirement already satisfied: multidict<7.0,>=4.5 in /usr/local/lib/python3.10/dist-packages (from aiohttp->openai) (6.0.4)\n",
            "Requirement already satisfied: async-timeout<5.0,>=4.0.0a3 in /usr/local/lib/python3.10/dist-packages (from aiohttp->openai) (4.0.3)\n",
            "Requirement already satisfied: yarl<2.0,>=1.0 in /usr/local/lib/python3.10/dist-packages (from aiohttp->openai) (1.9.2)\n",
            "Requirement already satisfied: frozenlist>=1.1.1 in /usr/local/lib/python3.10/dist-packages (from aiohttp->openai) (1.4.0)\n",
            "Requirement already satisfied: aiosignal>=1.1.2 in /usr/local/lib/python3.10/dist-packages (from aiohttp->openai) (1.3.1)\n"
          ]
        }
      ]
    },
    {
      "cell_type": "code",
      "source": [
        "from langchain import OpenAI\n",
        "from langchain.chains.summarize import load_summarize_chain\n",
        "from langchain.text_splitter import RecursiveCharacterTextSplitter"
      ],
      "metadata": {
        "id": "rNIht3-TSZTp"
      },
      "execution_count": 5,
      "outputs": []
    },
    {
      "cell_type": "code",
      "source": [
        "llm.get_num_tokens(details)"
      ],
      "metadata": {
        "colab": {
          "base_uri": "https://localhost:8080/"
        },
        "id": "msazm7qASO5k",
        "outputId": "ec4f8180-0ef5-4579-f74c-774c3f1b8afe"
      },
      "execution_count": 10,
      "outputs": [
        {
          "output_type": "execute_result",
          "data": {
            "text/plain": [
              "4161"
            ]
          },
          "metadata": {},
          "execution_count": 10
        }
      ]
    },
    {
      "cell_type": "code",
      "source": [],
      "metadata": {
        "id": "q8qD_YV3SuMi"
      },
      "execution_count": 8,
      "outputs": []
    },
    {
      "cell_type": "code",
      "source": [
        "llm = OpenAI(temperature=0, openai_api_key=openai_api_key)"
      ],
      "metadata": {
        "id": "H0f_a4BbSXEQ"
      },
      "execution_count": 9,
      "outputs": []
    },
    {
      "cell_type": "code",
      "source": [
        "from langchain import OpenAI\n",
        "from langchain.chains.summarize import load_summarize_chain\n",
        "from langchain.text_splitter import RecursiveCharacterTextSplitter"
      ],
      "metadata": {
        "id": "n3eRBcraTJoY"
      },
      "execution_count": 11,
      "outputs": []
    },
    {
      "cell_type": "code",
      "source": [
        "text_splitter = RecursiveCharacterTextSplitter(separators=[\" \"], chunk_size=6000, chunk_overlap=500)\n",
        "\n",
        "docs = text_splitter.create_documents([details])"
      ],
      "metadata": {
        "id": "HM0pXUi4S4To"
      },
      "execution_count": 12,
      "outputs": []
    },
    {
      "cell_type": "code",
      "source": [
        "num_docs = len(docs)\n",
        "\n",
        "num_tokens_first_doc = llm.get_num_tokens(docs[1].page_content)\n",
        "\n",
        "print (f\"Now we have {num_docs} documents and the first one has {num_tokens_first_doc} tokens\")"
      ],
      "metadata": {
        "colab": {
          "base_uri": "https://localhost:8080/"
        },
        "id": "ag9mmBOUTNmU",
        "outputId": "8a2d5654-13db-4cff-98c9-56e3e624d48d"
      },
      "execution_count": 13,
      "outputs": [
        {
          "output_type": "stream",
          "name": "stdout",
          "text": [
            "Now we have 3 documents and the first one has 2252 tokens\n"
          ]
        }
      ]
    },
    {
      "cell_type": "code",
      "source": [
        "summary_chain = load_summarize_chain(llm=llm, chain_type='map_reduce',\n",
        "                                      verbose=True)"
      ],
      "metadata": {
        "id": "dBCvyR_ETP_f"
      },
      "execution_count": 14,
      "outputs": []
    },
    {
      "cell_type": "code",
      "source": [
        "from langchain import PromptTemplate"
      ],
      "metadata": {
        "id": "FBopRAj7UFLr"
      },
      "execution_count": 15,
      "outputs": []
    },
    {
      "cell_type": "code",
      "source": [
        "combine_prompt = \"\"\"\n",
        "You are world class develeoper Reviewer. Look at the github profile and extract all the important details about him\n",
        "USE BULLET POINTS FOR EACH INFORMATION\n",
        "ALSO RATE THE INDIVIDUAL WITH A SMALL SUMMARY AT LAST\n",
        "\n",
        "{text}\n",
        "\"\"\"\n",
        "\n",
        "combine_prompt_template = PromptTemplate(template=combine_prompt, input_variables=[\"text\"])"
      ],
      "metadata": {
        "id": "jTWOKyghTjRx"
      },
      "execution_count": 16,
      "outputs": []
    },
    {
      "cell_type": "code",
      "source": [
        "summary_chain = load_summarize_chain(llm=llm,\n",
        "                                     chain_type='map_reduce',\n",
        "                                     combine_prompt=combine_prompt_template,\n",
        "                                    verbose=True\n",
        "                                    )"
      ],
      "metadata": {
        "id": "uuOahFpGT0kk"
      },
      "execution_count": 17,
      "outputs": []
    },
    {
      "cell_type": "code",
      "source": [
        "output = summary_chain.run(docs)"
      ],
      "metadata": {
        "colab": {
          "base_uri": "https://localhost:8080/"
        },
        "id": "FKD8DBkGULiv",
        "outputId": "6d99ee5b-4119-4048-8a94-30c4f114bae8"
      },
      "execution_count": 18,
      "outputs": [
        {
          "output_type": "stream",
          "name": "stdout",
          "text": [
            "\n",
            "\n",
            "\u001b[1m> Entering new MapReduceDocumentsChain chain...\u001b[0m\n",
            "\n",
            "\n",
            "\u001b[1m> Entering new LLMChain chain...\u001b[0m\n",
            "Prompt after formatting:\n",
            "\u001b[32;1m\u001b[1;3mWrite a concise summary of the following:\n",
            "\n",
            "\n",
            "\"User Profile for Saransh-cpp:\n",
            "Name: Saransh Chopra\n",
            "Bio: Undergrad who likes open-source scientific software\n",
            "Followers: 172\n",
            "Following: 107\n",
            "\n",
            "Repository Name: Python\n",
            "Description: All Algorithms implemented in Python\n",
            "Fork: True\n",
            "\n",
            "Repository Name: astropy\n",
            "Description: Astronomy and astrophysics core library\n",
            "Fork: True\n",
            "\n",
            "Repository Name: agda-python\n",
            "Description: A project that packages Agda as a Python package.\n",
            "Fork: True\n",
            "\n",
            "Repository Name: rmstar\n",
            "Description: Archived. For latest developments, see removestar - https://github.com/asmeurer/removestar.\n",
            "Fork: False\n",
            "\n",
            "Repository Name: Papers\n",
            "Description: Papers, theses, and presentations that I like (might have read, might be on the reading list)\n",
            "Fork: False\n",
            "\n",
            "Repository Name: scicookie\n",
            "Description: Cookiecutter template for a Python package.\n",
            "Fork: True\n",
            "\n",
            "Repository Name: Idris2\n",
            "Description: A purely functional programming language with first class types\n",
            "Fork: True\n",
            "\n",
            "Repository Name: IdrisButNotAgda\n",
            "Description: None\n",
            "Fork: False\n",
            "\n",
            "Repository Name: dot-analysis\n",
            "Description: Analysing dependency graphs produced by Agda\n",
            "Fork: True\n",
            "\n",
            "Repository Name: agda\n",
            "Description: Agda is a dependently typed programming language / interactive theorem prover.\n",
            "Fork: True\n",
            "\n",
            "Repository Name: setuptools_scm\n",
            "Description: the blessed package to manage your versions by scm tags\n",
            "Fork: True\n",
            "\n",
            "Repository Name: hsf-training-cicd\n",
            "Description: Continuuous integration and deployment. View webpage here: https://hsf-training.github.io/hsf-training-cicd/\n",
            "Fork: True\n",
            "\n",
            "Repository Name: hsf-training-cicd-github\n",
            "Description: An introduction to continuous integration (CI) and continuous deployment (CD) using GitHub Actions\n",
            "Fork: True\n",
            "\n",
            "Repository Name: benchexec\n",
            "Description: BenchExec: A Framework for Reliable Benchmarking and Resource Measurement\n",
            "Fork: True\n",
            "\n",
            "Repository Name: agda-stdlib\n",
            "Description: The Agda standard library\n",
            "Fork: True\n",
            "\n",
            "Repository Name: gsoc\n",
            "Description: NumFOCUS Google Summer of Code Materials\n",
            "Fork: True\n",
            "\n",
            "Repository Name: javamop\n",
            "Description: Runtime verification system for Java, using AspectJ for instrumentation.\n",
            "Fork: True\n",
            "\n",
            "Repository Name: pip\n",
            "Description: The Python package installer\n",
            "Fork: True\n",
            "\n",
            "Repository Name: casadi\n",
            "Description: CasADi is a symbolic framework for numeric optimization implementing automatic differentiation in forward and reverse modes on sparse matrix-valued computational graphs. It supports self-contained C-code generation and interfaces state-of-the-art codes such as SUNDIALS, IPOPT etc. It can be used from C++, Python or Matlab/Octave.\n",
            "Fork: True\n",
            "\n",
            "Repository Name: numcodecs\n",
            "Description: A Python package providing buffer compression and transformation codecs for use in data storage and communication applications.\n",
            "Fork: True\n",
            "\n",
            "Repository Name: codespell\n",
            "Description: check code for common misspellings\n",
            "Fork: True\n",
            "\n",
            "Repository Name: www.julialang.org\n",
            "Description: Julia Project website\n",
            "Fork: True\n",
            "\n",
            "Repository Name: CompGraphicsInJulia\n",
            "Description: Computer Graphics assignments in Julia (because why not)\n",
            "Fork: False\n",
            "\n",
            "Repository Name: fluxml-franklin-port\n",
            "Description: None\n",
            "Fork: False\n",
            "\n",
            "Repository Name: Franklin.jl\n",
            "Description: (yet another) static site generator. Simple, customisable, fast, maths with KaTeX, code evaluation, optional pre-rendering, in Julia.\n",
            "Fork: True\n",
            "\n",
            "User Organizations:\n",
            "Organization Name: astropy\n",
            "Organization Name: numfocus\n",
            "Organization Name: fossasia\n",
            "Organization Name: conda-forge\n",
            "Organization Name: clusterinnovationcentre\n",
            "Organization Name: FluxML\n",
            "Organization Name: pybamm-team\n",
            "Organization Name: AI-View\n",
            "Organization Name: osl-incubator\n",
            "Organization Name: Google-Summer-of-Code-Archive\n",
            "README.md Content: You are probably looking for [my website](https://Saransh-cpp.github.io), specifically, the [open-source page](https://saransh-cpp.github.io/opensource/). I am broadly interested in **Research Software Engineering**, **Scientific Computing**, **Scientific Machine Learning**, **Computer Vision**, **Theory of Computation**, **Formal Verification** (**Type Theory**, **Proof Theory**), **Functional Programming** and **DevOps**. I am extremely passionate about **Open-Source** and **Open-Science**. I am also developing some taste for **pure Software Engineering research** (runtime verification, new testing methods, etc.). ## Open-Source Software Better [here](https://saransh-cpp.github.io/opensource/). ### Main software The software I am (or I was once) involved with as a maintainer, core developer, core contributor, or was funded to work on. [pybamm-team/PyBaMM](https://github.com/pybamm-team/PyBaMM) | [scikit-hep/vector](https://github.com/scikit-hep/vector) | [conda-forge/vector-feedstock](https://github.com/conda-forge/vector-feedstock) | [FluxML/Flux.jl](https://github.com/FluxML/Flux.jl) | [agda/agda-stdlib](https://github.com/agda/agda-stdlib) | [pybamm-team/liionpack](https://github.com/pybamm-team/liionpack) | [pybamm-team/BattBot](https://github.com/pybamm-team/BattBot) | [smaranjitghose/DocLense](https://github.com/smaranjitghose/DocLense) | [asmeurer/removestar](https://github.com/asmeurer/removestar) | [conda-forge/removestar-feedstock](https://github.com/conda-forge/removestar-feedstock) ### Significant contributions Significant voluntary contributions or spin-off projects (was not directly funded to work on them but my work expanded and encompassed them). [FluxML ecosystem](https://github.com/FluxML/) | [Scikit-HEP ecosystem](https://github.com/scikit-hep/) | [luluxvi/DeepXDE](https://github.com/lululxvi/deepxde) | [zarr-developers/zarr-python](https://github.com/zarr-developers/zarr-python) | [scientific-python/cookie](https://github.com/scientific-python/cookie) ### Small but nice contributions Small contributions (not a spam spelling fix in README) that I did spend some time on. [sosy-lab/benchexec](https://github.com/sosy-lab/benchexec) | [colour-science/colour](https://github.com/colour-science/colour) | [bmcage/odes](https://github.com/bmcage/odes) | [idris-lang/Idris2](https://github.com/idris-lang/Idris2) |\"\n",
            "\n",
            "\n",
            "CONCISE SUMMARY:\u001b[0m\n",
            "Prompt after formatting:\n",
            "\u001b[32;1m\u001b[1;3mWrite a concise summary of the following:\n",
            "\n",
            "\n",
            "\"| [scientific-python/cookie](https://github.com/scientific-python/cookie) ### Small but nice contributions Small contributions (not a spam spelling fix in README) that I did spend some time on. [sosy-lab/benchexec](https://github.com/sosy-lab/benchexec) | [colour-science/colour](https://github.com/colour-science/colour) | [bmcage/odes](https://github.com/bmcage/odes) | [idris-lang/Idris2](https://github.com/idris-lang/Idris2) | [numpy/numpy](https://github.com/numpy/numpy) | [astropy/astropy](https://github.com/astropy/astropy) <!-- ### Projects Some personal projects that I couldn't pin. [OCRed](https://github.com/Saransh-cpp/OCRed) | [ChaoticEncryption.jl](https://github.com/Saransh-cpp/ChaoticEncryption.jl) | [releaseup](https://github.com/Saransh-cpp/releaseup) | [rmstar](https://github.com/Saransh-cpp/rmstar) | [MemeTastic](https://github.com/Saransh-cpp/MemeTastic) | [PopItUp](https://github.com/Saransh-cpp/PopItUp) | [BookRentApp-Chapter3](https://github.com/Saransh-cpp/BookRentApp-Chapter3) | [SceneNet](https://github.com/Saransh-cpp/SceneNet) | [ForMente](https://github.com/Saransh-cpp/ForMente) | [riemapp](https://github.com/Saransh-cpp/riemapp) --> --- <!-- <div align=\"center\"> [![Website](https://img.shields.io/badge/saransh--cpp.github.io-blue?logo=github&logoColor=white&style=flat-square&color=purple)](https://Saransh-cpp.github.io) </div> -->   <!-- [![Blogs](https://img.shields.io/badge/blogs-blue?logo=github&logoColor=white&style=flat-square&color=black)](https://Saransh-cpp.github.io) [![Linkedin: Saransh Chopra](https://img.shields.io/badge/-Saransh%20Chopra-blue?style=flat-square&logo=Linkedin&logoColor=white&link=https://www.linkedin.com/in/saransh-cpp/)](https://www.linkedin.com/in/saransh-cpp/) [![Twitter: Saransh Chopra](https://img.shields.io/twitter/follow/saranshchopra7?style=social)](https://twitter.com/saranshchopra7) --> <!-- [<img src=\"https://komarev.com/ghpvc/?username=Saransh-cpp\" alt=\"Saransh-cpp\" />](https://github.com/Saransh-cpp) --> <!-- [![Medium Badge](https://img.shields.io/badge/-@White%20Violin-black?style=flat-square&labelColor=000000&logo=Medium&link=https://medium.com/@WhiteViolin)](https://medium.com/@WhiteViolin) --> <!-- </div> -->   <!-- [![GitHub Saransh-cpp](https://img.shields.io/github/followers/Saransh-cpp?label=follow&style=social)](https://github.com/Saransh-cpp) --> <!-- - 🛰️ I was a Technical Writer at [FluxML](https://fluxml.ai/) under [Julia Season of Contributions](https://julialang.org/jsoc/)! - 🛰️ I was an [IRIS-HEP (Institute for Research and Innovation in Software for High Energy Physics)](https://iris-hep.org/) [fellow](https://iris-hep.org/fellows.html), and my work revolved around [Scikit-HEP/vector](https://github.com/scikit-hep/vector)! - :battery: I was a [Google Summer of Code 2021](https://summerofcode.withgoogle.com/projects/#5045812318437376) student at [PyBaMM](https://github.com/pybamm-team), [NumFOCUS](https://github.com/numfocus). - :octocat: I primarily contribute to the [PyBaMM ecosystem](https://github.com/pybamm-team/), [Scikit-HEP/vector](https://github.com/scikit-hep/vector) (and [some surronding packages](https://github.com/scikit-hep)), [FluxML](https://github.com/FluxML/Flux.jl) (and [some surronding packages](https://github.com/FluxML)), and random open-source research software. --> <!-- - :octocat: I try my best to contribute to the [PyBaMM ecosystem](https://github.com/pybamm-team/) regularly. --> <!-- - 🔭 I’m currently working on [ChaoticEncryption.jl](https://github.com/Saransh-cpp/ChaoticEncryption.jl) and [OCRed](https://github.com/Saransh-cpp/OCRed). --> <!-- - 🌱 I’m currently looking for research internships/fellowships. --> <!-- - 📫 Find my tech articles and GSoC 2021 blogs [here](https://whiteviolin.medium.com/). --> <!-- - #### <p align=\"left\"> [<img src=\"https://komarev.com/ghpvc/?username=Saransh-cpp\" alt=\"Saransh-cpp\" />](https://github.com/Saransh-cpp)</p> --> <p align=\"center\"><img src=\"https://github-readme-stats.vercel.app/api?username=Saransh-cpp&count_private=true&show_icons=true&include_all_commits=true&theme=gruvbox&bg_color=333333&show=reviews,discussions_answered\"/></p> <!-- ## Recent activity --> <!-- 1. 🗣 Commented on [#207](https://github.com/agda/agda-stdlib/issues/207) in [agda/agda-stdlib](https://github.com/agda/agda-stdlib) 2. 🗣 Commented on [#3035](https://github.com/pybamm-team/PyBaMM/issues/3035) in [pybamm-team/PyBaMM](https://github.com/pybamm-team/PyBaMM) 3. 🗣 Commented on [#3035](https://github.com/pybamm-team/PyBaMM/issues/3035) in [pybamm-team/PyBaMM](https://github.com/pybamm-team/PyBaMM) 4. 🗣 Commented on [#207](https://github.com/agda/agda-stdlib/issues/207) in [agda/agda-stdlib](https://github.com/agda/agda-stdlib) 5. ❗ Opened issue [#1980](https://github.com/agda/agda-stdlib/issues/1980) in [agda/agda-stdlib](https://github.com/agda/agda-stdlib) -->  <!-- ## Some personal projects that I couldn't pin <table>     <tr>     <td>     <a href=\"https://github.com/Saransh-cpp/PDEsWithPINNs\"><img align=\"center\" src=\"https://github-readme-stats.vercel.app/api/pin/?username=Saransh-cpp&repo=PDEsWithPINNs&theme=gruvbox&bg_color=333333\" /></a>     </td>     <td>     <a href=\"https://github.com/Saransh-cpp/ChaoticEncryption.jl\"><img align=\"center\" src=\"https://github-readme-stats.vercel.app/api/pin/?username=Saransh-cpp&repo=ChaoticEncryption.jl&theme=gruvbox&bg_color=333333\" /></a>     </td>     </tr>     <tr>     <td>     <a href=\"https://github.com/Saransh-cpp/OCRed\"><img align=\"center\" src=\"https://github-readme-stats.vercel.app/api/pin/?username=Saransh-cpp&repo=OCRed&theme=gruvbox&bg_color=333333\" /></a>     </td>     <td>    <a href=\"https://github.com/Saransh-cpp/ForMente\"><img align=\"center\" src=\"https://github-readme-stats.vercel.app/api/pin/?username=Saransh-cpp&repo=ForMente&theme=gruvbox&bg_color=333333\" /></a>     </td>     </tr>     <tr>     <td>     <a href=\"https://github.com/Saransh-cpp/PopItUp\"><img align=\"center\"\"\n",
            "\n",
            "\n",
            "CONCISE SUMMARY:\u001b[0m\n",
            "Prompt after formatting:\n",
            "\u001b[32;1m\u001b[1;3mWrite a concise summary of the following:\n",
            "\n",
            "\n",
            "\"align=\"center\" src=\"https://github-readme-stats.vercel.app/api/pin/?username=Saransh-cpp&repo=OCRed&theme=gruvbox&bg_color=333333\" /></a>     </td>     <td>    <a href=\"https://github.com/Saransh-cpp/ForMente\"><img align=\"center\" src=\"https://github-readme-stats.vercel.app/api/pin/?username=Saransh-cpp&repo=ForMente&theme=gruvbox&bg_color=333333\" /></a>     </td>     </tr>     <tr>     <td>     <a href=\"https://github.com/Saransh-cpp/PopItUp\"><img align=\"center\" src=\"https://github-readme-stats.vercel.app/api/pin/?username=Saransh-cpp&repo=PopItUp&theme=gruvbox&bg_color=333333\" /></a>     </td>     <td>    <a href=\"https://github.com/Saransh-cpp/releaseup\"><img align=\"center\" src=\"https://github-readme-stats.vercel.app/api/pin/?username=Saransh-cpp&repo=releaseup&theme=gruvbox&bg_color=333333\" /></a>     </td>     </tr>     <tr>     <td>     <a href=\"https://github.com/Saransh-cpp/MemeTastic\"><img align=\"center\" src=\"https://github-readme-stats.vercel.app/api/pin/?username=Saransh-cpp&repo=MemeTastic&theme=gruvbox&bg_color=333333\" /></a>     </td>  <td>     <a href=\"https://github.com/Saransh-cpp/SceneNet\"><img align=\"center\" src=\"https://github-readme-stats.vercel.app/api/pin/?username=Saransh-cpp&repo=SceneNet&theme=gruvbox&bg_color=333333\" /></a>     </td>     </tr> </table>\"\n",
            "\n",
            "\n",
            "CONCISE SUMMARY:\u001b[0m\n",
            "\n",
            "\u001b[1m> Finished chain.\u001b[0m\n",
            "\n",
            "\n",
            "\u001b[1m> Entering new LLMChain chain...\u001b[0m\n",
            "Prompt after formatting:\n",
            "\u001b[32;1m\u001b[1;3m\n",
            "You are world class develeoper Reviewer. Look at the github profile and extract all the important details about him\n",
            "USE BULLET POINTS FOR EACH INFORMATION\n",
            "ALSO RATE THE INDIVIDUAL WITH A SMALL SUMMARY AT LAST\n",
            "\n",
            " Saransh Chopra is an undergrad interested in open-source scientific software. He has 172 followers and 107 people he is following. He has many repositories, including Python, astropy, agda-python, rmstar, Papers, scicookie, Idris2, IdrisButNotAgda, dot-analysis, agda, setuptools_scm, hsf-training-cicd, hsf-training-cicd-github, benchexec, agda-stdlib, gsoc, javamop, pip, casadi, numcodecs, codespell, www.julialang.org, CompGraphicsInJulia, fluxml-franklin-port, Franklin.jl, and pip. He is also a part of many organizations, such as astropy, numfocus, fossasia, conda-forge, clusterinnovationcentre, FluxML, pybamm-team, AI-View, osl-incubator, and Google-Summer-of-Code-Archive.\n",
            "\n",
            " Saransh-cpp has made small contributions to various open source projects such as scientific-python/cookie, sosy-lab/benchexec, colour-science/colour, bmcage/odes, numpy/numpy, and astropy/astropy. He has also worked on personal projects such as OCRed, ChaoticEncryption.jl, releaseup, rmstar, MemeTastic, PopItUp, BookRentApp-Chapter3, SceneNet, ForMente, and riemapp.\n",
            "\n",
            " This is a table of eight projects created by Saransh-cpp on GitHub. The projects are OCRed, ForMente, PopItUp, releaseup, MemeTastic, and SceneNet. Each project has a link to its GitHub page and a visual representation of its stats.\n",
            "\u001b[0m\n",
            "\n",
            "\u001b[1m> Finished chain.\u001b[0m\n",
            "\n",
            "\u001b[1m> Finished chain.\u001b[0m\n"
          ]
        }
      ]
    },
    {
      "cell_type": "code",
      "source": [
        "print (output)"
      ],
      "metadata": {
        "colab": {
          "base_uri": "https://localhost:8080/"
        },
        "id": "zKRMzG9HUNUG",
        "outputId": "f13aa485-3f8d-4070-a679-f00506261e6a"
      },
      "execution_count": 19,
      "outputs": [
        {
          "output_type": "stream",
          "name": "stdout",
          "text": [
            "\n",
            "Overall, Saransh Chopra is an impressive developer with a wide range of experience in open source software development. He has contributed to many projects and created several of his own. He is also part of many organizations and has a good number of followers. He is a great asset to the open source community and deserves a rating of 4.5/5.\n"
          ]
        }
      ]
    },
    {
      "cell_type": "code",
      "source": [],
      "metadata": {
        "id": "v2R7JuwfURQO"
      },
      "execution_count": 19,
      "outputs": []
    }
  ]
}